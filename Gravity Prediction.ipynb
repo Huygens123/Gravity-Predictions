{
 "cells": [
  {
   "cell_type": "markdown",
   "id": "6b252ab8",
   "metadata": {},
   "source": [
    "# Gravity Prediction"
   ]
  },
  {
   "cell_type": "code",
   "execution_count": 18,
   "id": "502761ef",
   "metadata": {},
   "outputs": [],
   "source": [
    "# import libraries\n",
    "\n",
    "import pandas as pd\n",
    "import numpy as np\n",
    "import matplotlib.pyplot as plt\n",
    "import seaborn as sns\n",
    "\n",
    "from sklearn.model_selection import train_test_split, GridSearchCV\n",
    "\n",
    "from sklearn.linear_model import LinearRegression\n",
    "from sklearn.tree import DecisionTreeRegressor\n",
    "from sklearn.neighbors import KNeighborsRegressor\n",
    "\n",
    "from sklearn.metrics import mean_absolute_error, r2_score, mean_squared_error"
   ]
  },
  {
   "cell_type": "code",
   "execution_count": 4,
   "id": "481e820e",
   "metadata": {},
   "outputs": [
    {
     "data": {
      "text/html": [
       "<div>\n",
       "<style scoped>\n",
       "    .dataframe tbody tr th:only-of-type {\n",
       "        vertical-align: middle;\n",
       "    }\n",
       "\n",
       "    .dataframe tbody tr th {\n",
       "        vertical-align: top;\n",
       "    }\n",
       "\n",
       "    .dataframe thead th {\n",
       "        text-align: right;\n",
       "    }\n",
       "</style>\n",
       "<table border=\"1\" class=\"dataframe\">\n",
       "  <thead>\n",
       "    <tr style=\"text-align: right;\">\n",
       "      <th></th>\n",
       "      <th>9</th>\n",
       "      <th>294</th>\n",
       "      <th>47</th>\n",
       "      <th>168</th>\n",
       "      <th>107</th>\n",
       "    </tr>\n",
       "  </thead>\n",
       "  <tbody>\n",
       "    <tr>\n",
       "      <th>PID</th>\n",
       "      <td>P10</td>\n",
       "      <td>P295</td>\n",
       "      <td>P48</td>\n",
       "      <td>P169</td>\n",
       "      <td>P108</td>\n",
       "    </tr>\n",
       "    <tr>\n",
       "      <th>l</th>\n",
       "      <td>5.54</td>\n",
       "      <td>5.4861</td>\n",
       "      <td>5.17</td>\n",
       "      <td>4.3</td>\n",
       "      <td>6.25</td>\n",
       "    </tr>\n",
       "    <tr>\n",
       "      <th>f</th>\n",
       "      <td>6.53</td>\n",
       "      <td>10.3889</td>\n",
       "      <td>6.75</td>\n",
       "      <td>7.69</td>\n",
       "      <td>7.25</td>\n",
       "    </tr>\n",
       "    <tr>\n",
       "      <th>h(m)</th>\n",
       "      <td>98.8</td>\n",
       "      <td>331.9</td>\n",
       "      <td>88.1</td>\n",
       "      <td>271.3</td>\n",
       "      <td>278.3</td>\n",
       "    </tr>\n",
       "    <tr>\n",
       "      <th>g(mgal)</th>\n",
       "      <td>978063.2</td>\n",
       "      <td>978108.7</td>\n",
       "      <td>978088.8</td>\n",
       "      <td>978067.3</td>\n",
       "      <td>978055.7</td>\n",
       "    </tr>\n",
       "    <tr>\n",
       "      <th>FreeAir</th>\n",
       "      <td>-4.9</td>\n",
       "      <td>11.3</td>\n",
       "      <td>12.8</td>\n",
       "      <td>26.7</td>\n",
       "      <td>27.5</td>\n",
       "    </tr>\n",
       "    <tr>\n",
       "      <th>Bouguer</th>\n",
       "      <td>-15.9</td>\n",
       "      <td>-25.8</td>\n",
       "      <td>3.0</td>\n",
       "      <td>-3.7</td>\n",
       "      <td>-3.6</td>\n",
       "    </tr>\n",
       "  </tbody>\n",
       "</table>\n",
       "</div>"
      ],
      "text/plain": [
       "               9         294       47        168       107\n",
       "PID            P10      P295       P48      P169      P108\n",
       "l             5.54    5.4861      5.17       4.3      6.25\n",
       "f             6.53   10.3889      6.75      7.69      7.25\n",
       "h(m)          98.8     331.9      88.1     271.3     278.3\n",
       "g(mgal)   978063.2  978108.7  978088.8  978067.3  978055.7\n",
       "FreeAir       -4.9      11.3      12.8      26.7      27.5\n",
       "Bouguer      -15.9     -25.8       3.0      -3.7      -3.6"
      ]
     },
     "execution_count": 4,
     "metadata": {},
     "output_type": "execute_result"
    }
   ],
   "source": [
    "# import dataset\n",
    "\n",
    "\n",
    "data = pd.read_csv(\"Copy of Gravity_Datas_SW_Nigeria_Prof_LMOjigi(1).csv\")\n",
    "\n",
    "data.sample(5).T"
   ]
  },
  {
   "cell_type": "code",
   "execution_count": 5,
   "id": "ef65211b",
   "metadata": {},
   "outputs": [],
   "source": [
    "data.columns = ['s/no','latitude', 'longitude', 'height',\n",
    "               'gravity', 'freeair', 'bouguer']"
   ]
  },
  {
   "cell_type": "code",
   "execution_count": 6,
   "id": "c7531dfb",
   "metadata": {},
   "outputs": [
    {
     "data": {
      "text/html": [
       "<div>\n",
       "<style scoped>\n",
       "    .dataframe tbody tr th:only-of-type {\n",
       "        vertical-align: middle;\n",
       "    }\n",
       "\n",
       "    .dataframe tbody tr th {\n",
       "        vertical-align: top;\n",
       "    }\n",
       "\n",
       "    .dataframe thead th {\n",
       "        text-align: right;\n",
       "    }\n",
       "</style>\n",
       "<table border=\"1\" class=\"dataframe\">\n",
       "  <thead>\n",
       "    <tr style=\"text-align: right;\">\n",
       "      <th></th>\n",
       "      <th>latitude</th>\n",
       "      <th>longitude</th>\n",
       "      <th>height</th>\n",
       "      <th>gravity</th>\n",
       "      <th>freeair</th>\n",
       "      <th>bouguer</th>\n",
       "    </tr>\n",
       "  </thead>\n",
       "  <tbody>\n",
       "    <tr>\n",
       "      <th>latitude</th>\n",
       "      <td>1.000000</td>\n",
       "      <td>0.248598</td>\n",
       "      <td>0.270320</td>\n",
       "      <td>-0.350148</td>\n",
       "      <td>-0.445945</td>\n",
       "      <td>-0.664517</td>\n",
       "    </tr>\n",
       "    <tr>\n",
       "      <th>longitude</th>\n",
       "      <td>0.248598</td>\n",
       "      <td>1.000000</td>\n",
       "      <td>0.383193</td>\n",
       "      <td>0.191370</td>\n",
       "      <td>-0.286315</td>\n",
       "      <td>-0.613260</td>\n",
       "    </tr>\n",
       "    <tr>\n",
       "      <th>height</th>\n",
       "      <td>0.270320</td>\n",
       "      <td>0.383193</td>\n",
       "      <td>1.000000</td>\n",
       "      <td>-0.765512</td>\n",
       "      <td>0.411297</td>\n",
       "      <td>-0.499592</td>\n",
       "    </tr>\n",
       "    <tr>\n",
       "      <th>gravity</th>\n",
       "      <td>-0.350148</td>\n",
       "      <td>0.191370</td>\n",
       "      <td>-0.765512</td>\n",
       "      <td>1.000000</td>\n",
       "      <td>-0.281544</td>\n",
       "      <td>0.414145</td>\n",
       "    </tr>\n",
       "    <tr>\n",
       "      <th>freeair</th>\n",
       "      <td>-0.445945</td>\n",
       "      <td>-0.286315</td>\n",
       "      <td>0.411297</td>\n",
       "      <td>-0.281544</td>\n",
       "      <td>1.000000</td>\n",
       "      <td>0.584114</td>\n",
       "    </tr>\n",
       "    <tr>\n",
       "      <th>bouguer</th>\n",
       "      <td>-0.664517</td>\n",
       "      <td>-0.613260</td>\n",
       "      <td>-0.499592</td>\n",
       "      <td>0.414145</td>\n",
       "      <td>0.584114</td>\n",
       "      <td>1.000000</td>\n",
       "    </tr>\n",
       "  </tbody>\n",
       "</table>\n",
       "</div>"
      ],
      "text/plain": [
       "           latitude  longitude    height   gravity   freeair   bouguer\n",
       "latitude   1.000000   0.248598  0.270320 -0.350148 -0.445945 -0.664517\n",
       "longitude  0.248598   1.000000  0.383193  0.191370 -0.286315 -0.613260\n",
       "height     0.270320   0.383193  1.000000 -0.765512  0.411297 -0.499592\n",
       "gravity   -0.350148   0.191370 -0.765512  1.000000 -0.281544  0.414145\n",
       "freeair   -0.445945  -0.286315  0.411297 -0.281544  1.000000  0.584114\n",
       "bouguer   -0.664517  -0.613260 -0.499592  0.414145  0.584114  1.000000"
      ]
     },
     "execution_count": 6,
     "metadata": {},
     "output_type": "execute_result"
    }
   ],
   "source": [
    "data.corr(numeric_only=True)"
   ]
  },
  {
   "cell_type": "markdown",
   "id": "1b253578",
   "metadata": {},
   "source": [
    "Examine relationships "
   ]
  },
  {
   "cell_type": "code",
   "execution_count": 7,
   "id": "5ca639d9",
   "metadata": {
    "scrolled": true
   },
   "outputs": [
    {
     "data": {
      "image/png": "[encoded data removed]",
      "text/plain": [
       "<Figure size 1500x800 with 2 Axes>"
      ]
     },
     "metadata": {},
     "output_type": "display_data"
    }
   ],
   "source": [
    "plt.figure(figsize=(15,8))\n",
    "sns.heatmap(data.corr(numeric_only=True), cmap='coolwarm',\n",
    "           annot=True);"
   ]
  },
  {
   "cell_type": "code",
   "execution_count": 8,
   "id": "ea1eb317",
   "metadata": {},
   "outputs": [],
   "source": [
    "X_train,X_tes = train_test_split(data, random_state=42, test_size=0.25)"
   ]
  },
  {
   "cell_type": "code",
   "execution_count": 9,
   "id": "3298f2b6",
   "metadata": {},
   "outputs": [
    {
     "data": {
      "text/plain": [
       "(226, 76)"
      ]
     },
     "execution_count": 9,
     "metadata": {},
     "output_type": "execute_result"
    }
   ],
   "source": [
    "X_train.shape[0], X_tes.shape[0]"
   ]
  },
  {
   "cell_type": "code",
   "execution_count": 10,
   "id": "b0056b71",
   "metadata": {},
   "outputs": [
    {
     "data": {
      "text/html": [
       "<div>\n",
       "<style scoped>\n",
       "    .dataframe tbody tr th:only-of-type {\n",
       "        vertical-align: middle;\n",
       "    }\n",
       "\n",
       "    .dataframe tbody tr th {\n",
       "        vertical-align: top;\n",
       "    }\n",
       "\n",
       "    .dataframe thead th {\n",
       "        text-align: right;\n",
       "    }\n",
       "</style>\n",
       "<table border=\"1\" class=\"dataframe\">\n",
       "  <thead>\n",
       "    <tr style=\"text-align: right;\">\n",
       "      <th></th>\n",
       "      <th>s/no</th>\n",
       "      <th>latitude</th>\n",
       "      <th>longitude</th>\n",
       "      <th>height</th>\n",
       "      <th>gravity</th>\n",
       "      <th>freeair</th>\n",
       "      <th>bouguer</th>\n",
       "    </tr>\n",
       "  </thead>\n",
       "  <tbody>\n",
       "    <tr>\n",
       "      <th>286</th>\n",
       "      <td>P287</td>\n",
       "      <td>5.8194</td>\n",
       "      <td>10.0069</td>\n",
       "      <td>158.3</td>\n",
       "      <td>978135.4</td>\n",
       "      <td>-3.5</td>\n",
       "      <td>-21.2</td>\n",
       "    </tr>\n",
       "    <tr>\n",
       "      <th>281</th>\n",
       "      <td>P282</td>\n",
       "      <td>5.7500</td>\n",
       "      <td>9.7708</td>\n",
       "      <td>306.4</td>\n",
       "      <td>978100.3</td>\n",
       "      <td>14.3</td>\n",
       "      <td>-20.0</td>\n",
       "    </tr>\n",
       "    <tr>\n",
       "      <th>197</th>\n",
       "      <td>P198</td>\n",
       "      <td>4.9000</td>\n",
       "      <td>8.0000</td>\n",
       "      <td>476.8</td>\n",
       "      <td>978036.3</td>\n",
       "      <td>51.6</td>\n",
       "      <td>-1.7</td>\n",
       "    </tr>\n",
       "    <tr>\n",
       "      <th>158</th>\n",
       "      <td>P159</td>\n",
       "      <td>4.8500</td>\n",
       "      <td>7.6300</td>\n",
       "      <td>422.1</td>\n",
       "      <td>978042.9</td>\n",
       "      <td>50.3</td>\n",
       "      <td>3.1</td>\n",
       "    </tr>\n",
       "    <tr>\n",
       "      <th>164</th>\n",
       "      <td>P165</td>\n",
       "      <td>3.4500</td>\n",
       "      <td>7.6800</td>\n",
       "      <td>171.9</td>\n",
       "      <td>978106.3</td>\n",
       "      <td>35.3</td>\n",
       "      <td>16.0</td>\n",
       "    </tr>\n",
       "    <tr>\n",
       "      <th>...</th>\n",
       "      <td>...</td>\n",
       "      <td>...</td>\n",
       "      <td>...</td>\n",
       "      <td>...</td>\n",
       "      <td>...</td>\n",
       "      <td>...</td>\n",
       "      <td>...</td>\n",
       "    </tr>\n",
       "    <tr>\n",
       "      <th>188</th>\n",
       "      <td>P189</td>\n",
       "      <td>3.8600</td>\n",
       "      <td>7.9000</td>\n",
       "      <td>224.0</td>\n",
       "      <td>978086.9</td>\n",
       "      <td>26.6</td>\n",
       "      <td>1.6</td>\n",
       "    </tr>\n",
       "    <tr>\n",
       "      <th>71</th>\n",
       "      <td>P72</td>\n",
       "      <td>3.2200</td>\n",
       "      <td>6.9500</td>\n",
       "      <td>68.9</td>\n",
       "      <td>978114.3</td>\n",
       "      <td>28.1</td>\n",
       "      <td>20.4</td>\n",
       "    </tr>\n",
       "    <tr>\n",
       "      <th>106</th>\n",
       "      <td>P107</td>\n",
       "      <td>5.5200</td>\n",
       "      <td>7.2500</td>\n",
       "      <td>314.7</td>\n",
       "      <td>978048.3</td>\n",
       "      <td>31.4</td>\n",
       "      <td>-3.8</td>\n",
       "    </tr>\n",
       "    <tr>\n",
       "      <th>270</th>\n",
       "      <td>P271</td>\n",
       "      <td>5.1181</td>\n",
       "      <td>9.3403</td>\n",
       "      <td>168.5</td>\n",
       "      <td>978121.6</td>\n",
       "      <td>5.7</td>\n",
       "      <td>-13.1</td>\n",
       "    </tr>\n",
       "    <tr>\n",
       "      <th>102</th>\n",
       "      <td>P103</td>\n",
       "      <td>3.7900</td>\n",
       "      <td>7.2000</td>\n",
       "      <td>93.3</td>\n",
       "      <td>978111.0</td>\n",
       "      <td>26.8</td>\n",
       "      <td>16.4</td>\n",
       "    </tr>\n",
       "  </tbody>\n",
       "</table>\n",
       "<p>226 rows × 7 columns</p>\n",
       "</div>"
      ],
      "text/plain": [
       "     s/no  latitude  longitude  height   gravity  freeair  bouguer\n",
       "286  P287    5.8194    10.0069   158.3  978135.4     -3.5    -21.2\n",
       "281  P282    5.7500     9.7708   306.4  978100.3     14.3    -20.0\n",
       "197  P198    4.9000     8.0000   476.8  978036.3     51.6     -1.7\n",
       "158  P159    4.8500     7.6300   422.1  978042.9     50.3      3.1\n",
       "164  P165    3.4500     7.6800   171.9  978106.3     35.3     16.0\n",
       "..    ...       ...        ...     ...       ...      ...      ...\n",
       "188  P189    3.8600     7.9000   224.0  978086.9     26.6      1.6\n",
       "71    P72    3.2200     6.9500    68.9  978114.3     28.1     20.4\n",
       "106  P107    5.5200     7.2500   314.7  978048.3     31.4     -3.8\n",
       "270  P271    5.1181     9.3403   168.5  978121.6      5.7    -13.1\n",
       "102  P103    3.7900     7.2000    93.3  978111.0     26.8     16.4\n",
       "\n",
       "[226 rows x 7 columns]"
      ]
     },
     "execution_count": 10,
     "metadata": {},
     "output_type": "execute_result"
    }
   ],
   "source": [
    "X_train"
   ]
  },
  {
   "cell_type": "code",
   "execution_count": 11,
   "id": "eb7c2f2a",
   "metadata": {},
   "outputs": [
    {
     "data": {
      "image/png": "[encoded data removed]",
      "text/plain": [
       "<Figure size 640x480 with 1 Axes>"
      ]
     },
     "metadata": {},
     "output_type": "display_data"
    }
   ],
   "source": [
    "sns.histplot(data=data,x=data.gravity);"
   ]
  },
  {
   "cell_type": "code",
   "execution_count": 13,
   "id": "25a13596",
   "metadata": {},
   "outputs": [],
   "source": [
    "train_input = X_train.drop(columns=['gravity', 's/no'])\n",
    "test_input = X_tes.drop(columns=['gravity', 's/no'])\n",
    "train_target = X_train.gravity\n",
    "test_target = X_tes.gravity"
   ]
  },
  {
   "cell_type": "markdown",
   "id": "505ff882",
   "metadata": {},
   "source": [
    "Build Model and Make Prediction "
   ]
  },
  {
   "cell_type": "code",
   "execution_count": 17,
   "id": "e55f5ecc",
   "metadata": {},
   "outputs": [
    {
     "name": "stdout",
     "output_type": "stream",
     "text": [
      "Mean Square Error is: 1.8 and Mean Absolute Error is: 1.349\n"
     ]
    }
   ],
   "source": [
    "linear_reg = LinearRegression()\n",
    "linear_reg.fit(train_input, train_target)\n",
    "\n",
    "prediction = linear_reg.predict(test_input)\n",
    "mae = mean_absolute_error(test_target, prediction)\n",
    "\n",
    "rmse = np.sqrt(mean_squared_error(test_target, prediction))\n",
    "print(f'Mean Square Error is: {round(rmse,3)} and Mean Absolute Error is: {round(mae,3)}')"
   ]
  },
  {
   "cell_type": "code",
   "execution_count": 19,
   "id": "c1a34f6e",
   "metadata": {},
   "outputs": [
    {
     "data": {
      "image/png": "[encoded data removed]",
      "text/plain": [
       "<Figure size 640x480 with 1 Axes>"
      ]
     },
     "metadata": {},
     "output_type": "display_data"
    }
   ],
   "source": [
    "plt.scatter(test_target, prediction)\n",
    "plt.xlabel(\"Actual values\")\n",
    "plt.ylabel(\"Predicted values\")\n",
    "plt.title(\"Actual vs Predicted values\")\n",
    "plt.show()"
   ]
  },
  {
   "cell_type": "code",
   "execution_count": 20,
   "id": "b029bbf7",
   "metadata": {},
   "outputs": [],
   "source": [
    "# pip install streamlit mlem"
   ]
  },
  {
   "cell_type": "markdown",
   "id": "503e9cb0",
   "metadata": {},
   "source": [
    "# Save the Model"
   ]
  },
  {
   "cell_type": "code",
   "execution_count": 21,
   "id": "6e1934ad",
   "metadata": {},
   "outputs": [],
   "source": [
    "import joblib"
   ]
  },
  {
   "cell_type": "code",
   "execution_count": 22,
   "id": "cfc586f9",
   "metadata": {},
   "outputs": [],
   "source": [
    "gravity_data = {\n",
    "    'model':linear_reg,\n",
    "    'input_col': train_input.columns,\n",
    "    'target_col': 'gravity'\n",
    "}"
   ]
  },
  {
   "cell_type": "code",
   "execution_count": 23,
   "id": "268be68b",
   "metadata": {},
   "outputs": [
    {
     "data": {
      "text/plain": [
       "['gravity_prediction.joblib']"
      ]
     },
     "execution_count": 23,
     "metadata": {},
     "output_type": "execute_result"
    }
   ],
   "source": [
    "joblib.dump(gravity_data,'gravity_prediction.joblib')"
   ]
  },
  {
   "cell_type": "code",
   "execution_count": 24,
   "id": "12c7eb8b",
   "metadata": {},
   "outputs": [],
   "source": [
    "gravity_df = joblib.load('gravity_prediction.joblib')"
   ]
  },
  {
   "cell_type": "code",
   "execution_count": 25,
   "id": "3e2f06dc",
   "metadata": {},
   "outputs": [
    {
     "data": {
      "text/plain": [
       "1.3492021518805384"
      ]
     },
     "execution_count": 25,
     "metadata": {},
     "output_type": "execute_result"
    }
   ],
   "source": [
    "gravity_pred = gravity_df['model'].predict(test_input)\n",
    "mean_absolute_error(test_target, gravity_pred)"
   ]
  },
  {
   "cell_type": "markdown",
   "id": "5127280d",
   "metadata": {},
   "source": [
    "# Make Prediction on Single Input"
   ]
  },
  {
   "cell_type": "code",
   "execution_count": 26,
   "id": "9292f761",
   "metadata": {},
   "outputs": [],
   "source": [
    "from typing import Literal\n",
    "\n",
    "def pred_input(latitude: Literal[float, -90, 90], longitude: Literal[float, -90, 90], \n",
    "               height, freeair, bouguer):\n",
    "    \n",
    "    input_dict = {\n",
    "        'latitude': latitude,\n",
    "        'longitude': longitude,\n",
    "        'height': height,\n",
    "        'freeair': freeair,\n",
    "        'bouguer': bouguer\n",
    "    }\n",
    "    \n",
    "    input_df = pd.DataFrame([input_dict])\n",
    "    prediction_single = linear_reg.predict(input_df)[0]\n",
    "    \n",
    "    return prediction_single"
   ]
  },
  {
   "cell_type": "code",
   "execution_count": 29,
   "id": "38acf189",
   "metadata": {},
   "outputs": [
    {
     "data": {
      "text/plain": [
       "977883.6334437147"
      ]
     },
     "execution_count": 29,
     "metadata": {},
     "output_type": "execute_result"
    }
   ],
   "source": [
    "pred_input(latitude=4.3, longitude=10.3, \n",
    "           height=200, freeair=-20, \n",
    "           bouguer=-2)"
   ]
  },
  {
   "cell_type": "code",
   "execution_count": null,
   "id": "2a06cac2",
   "metadata": {},
   "outputs": [],
   "source": []
  }
 ],
 "metadata": {
  "kernelspec": {
   "display_name": "Python 3 (ipykernel)",
   "language": "python",
   "name": "python3"
  },
  "language_info": {
   "codemirror_mode": {
    "name": "ipython",
    "version": 3
   },
   "file_extension": ".py",
   "mimetype": "text/x-python",
   "name": "python",
   "nbconvert_exporter": "python",
   "pygments_lexer": "ipython3",
   "version": "3.11.5"
  }
 },
 "nbformat": 4,
 "nbformat_minor": 5
}
